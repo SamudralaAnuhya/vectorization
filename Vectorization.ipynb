{
  "nbformat": 4,
  "nbformat_minor": 0,
  "metadata": {
    "colab": {
      "provenance": [],
      "authorship_tag": "ABX9TyOIJyLA4xlVpIy5l12ZTpiP",
      "include_colab_link": true
    },
    "kernelspec": {
      "name": "python3",
      "display_name": "Python 3"
    },
    "language_info": {
      "name": "python"
    }
  },
  "cells": [
    {
      "cell_type": "markdown",
      "metadata": {
        "id": "view-in-github",
        "colab_type": "text"
      },
      "source": [
        "<a href=\"https://colab.research.google.com/github/SamudralaAnuhya/vectorization/blob/main/Vectorization.ipynb\" target=\"_parent\"><img src=\"https://colab.research.google.com/assets/colab-badge.svg\" alt=\"Open In Colab\"/></a>"
      ]
    },
    {
      "cell_type": "code",
      "execution_count": 2,
      "metadata": {
        "id": "E-LnEdasJnSi"
      },
      "outputs": [],
      "source": [
        "import numpy as np\n",
        "import time"
      ]
    },
    {
      "cell_type": "markdown",
      "source": [
        "comparing the times between for loop and vector implmentation"
      ],
      "metadata": {
        "id": "qENypsQvK9XH"
      }
    },
    {
      "cell_type": "code",
      "source": [
        "a = np.random.rand(1000000 )\n",
        "b = np.random.rand(1000000)\n",
        "\n",
        "tic = time.time()\n",
        "c = np.dot(a,b)\n",
        "toc = time.time()\n",
        "\n",
        "print(c)\n",
        "print(\"vectorized implementation:\" + str(1000*(toc-tic)) + \"ms\" )\n",
        "\n",
        "c=0\n",
        "tic = time.time()\n",
        "for i in range (1000000):\n",
        "  c += a[i]*b[i]\n",
        "toc = time.time()\n",
        "print(c)\n",
        "print(\"For loop implementation:\" + str(1000*(toc-tic)) + \"ms\" )"
      ],
      "metadata": {
        "colab": {
          "base_uri": "https://localhost:8080/"
        },
        "id": "ImkIoLFdJtmO",
        "outputId": "dcf34041-2c50-497d-dfbb-bc201c8f63f8"
      },
      "execution_count": 3,
      "outputs": [
        {
          "output_type": "stream",
          "name": "stdout",
          "text": [
            "249974.0328730776\n",
            "vectorized implementation:1.3649463653564453ms\n",
            "249974.03287307644\n",
            "For loop implementation:581.5060138702393ms\n"
          ]
        }
      ]
    },
    {
      "cell_type": "markdown",
      "source": [
        "Broadcasting"
      ],
      "metadata": {
        "id": "CywSfhx5SPk9"
      }
    },
    {
      "cell_type": "code",
      "source": [
        "A = np.array([[1,2,3,4],\n",
        "             [5,6,7,8],\n",
        "             [9,10,11,12]])"
      ],
      "metadata": {
        "id": "X24Hs7rCSOKB"
      },
      "execution_count": 8,
      "outputs": []
    },
    {
      "cell_type": "code",
      "source": [
        "cal = A.sum(axis = 0)\n",
        "print(cal)"
      ],
      "metadata": {
        "colab": {
          "base_uri": "https://localhost:8080/"
        },
        "id": "TW9umolrSOP5",
        "outputId": "bd029ef7-2918-4a23-d81c-4f3de4c77fb6"
      },
      "execution_count": 9,
      "outputs": [
        {
          "output_type": "stream",
          "name": "stdout",
          "text": [
            "[15 18 21 24]\n"
          ]
        }
      ]
    },
    {
      "cell_type": "code",
      "source": [
        "percentage = 100*A/cal.reshape(1,4)\n",
        "print(percentage)"
      ],
      "metadata": {
        "colab": {
          "base_uri": "https://localhost:8080/"
        },
        "id": "XBwdPB_TSOUO",
        "outputId": "71e2b2ca-7281-424b-83cf-6592f0568e73"
      },
      "execution_count": 15,
      "outputs": [
        {
          "output_type": "stream",
          "name": "stdout",
          "text": [
            "[[ 6.66666667 11.11111111 14.28571429 16.66666667]\n",
            " [33.33333333 33.33333333 33.33333333 33.33333333]\n",
            " [60.         55.55555556 52.38095238 50.        ]]\n"
          ]
        }
      ]
    },
    {
      "cell_type": "code",
      "source": [
        "a= np.random.randn(10 , 1)\n",
        "b = np.random.rand(1, 2)\n",
        "print(a,b)"
      ],
      "metadata": {
        "colab": {
          "base_uri": "https://localhost:8080/"
        },
        "id": "123AWikUSOWx",
        "outputId": "287ddbe1-507b-4374-fb01-7a606b9b235c"
      },
      "execution_count": 20,
      "outputs": [
        {
          "output_type": "stream",
          "name": "stdout",
          "text": [
            "[[ 1.16342905]\n",
            " [ 0.00645427]\n",
            " [-0.526433  ]\n",
            " [-0.89928789]\n",
            " [ 1.01516892]\n",
            " [-0.70172376]\n",
            " [-1.98638494]\n",
            " [-0.24042908]\n",
            " [ 0.01802552]\n",
            " [-2.58690105]] [[0.9905157  0.62464977]]\n"
          ]
        }
      ]
    },
    {
      "cell_type": "code",
      "source": [
        "a=np.random.randn(3,3)\n",
        "b=np.random.randn(3,1)\n",
        "c = a * b\n",
        "print(c)"
      ],
      "metadata": {
        "colab": {
          "base_uri": "https://localhost:8080/"
        },
        "id": "MEj5zxBgUw0j",
        "outputId": "572a0372-451f-4f1a-f211-e3d885e48bae"
      },
      "execution_count": 6,
      "outputs": [
        {
          "output_type": "stream",
          "name": "stdout",
          "text": [
            "[[ 0.08589326 -0.57961489 -1.10759195]\n",
            " [-0.23319104 -0.24640737 -0.07718295]\n",
            " [-0.07797186 -0.13080228 -0.16224225]]\n"
          ]
        }
      ]
    },
    {
      "cell_type": "code",
      "source": [
        "#lineaer regression\n",
        "import numpy as np\n",
        "\n",
        "# Manually defining x (images) and y (labels)\n",
        "X = np.array([\n",
        "    [[82, 71, 68], [89, 83, 83], [100, 98, 104], [131, 132, 137], [126, 124, 124], [105, 97, 95]],\n",
        "    [[95, 91, 97], [104, 104, 113], [110, 115, 126], [135, 134, 135], [127, 122, 119], [111, 105, 103]],\n",
        "    [[94, 85, 83], [97, 89, 90], [110, 109, 115], [136, 134, 131], [127, 120, 117], [116, 108, 104]],\n",
        "    [[96, 116, 131], [97, 115, 130], [103, 123, 139], [152, 155, 157], [146, 149, 152], [130, 133, 134]],\n",
        "    [[90, 108, 123], [92, 108, 121], [100, 119, 134], [150, 152, 155], [144, 146, 147], [134, 135, 134]],\n",
        "    [[86, 102, 116], [87, 103, 115], [94, 114, 127], [154, 156, 160], [146, 148, 152], [138, 141, 142]]\n",
        "], dtype='uint8')\n",
        "\n",
        "y = np.array([1, 1])  # Labels for these two images (both cats)\n"
      ],
      "metadata": {
        "id": "y2gw22B6Ye6a"
      },
      "execution_count": 8,
      "outputs": []
    },
    {
      "cell_type": "code",
      "source": [
        "import numpy as np\n",
        "import copy\n",
        "import matplotlib.pyplot as plt\n",
        "import h5py\n",
        "import scipy\n",
        "from PIL import Image\n",
        "from scipy import ndimage\n",
        "%matplotlib inline\n",
        "%load_ext autoreload\n",
        "%autoreload 2"
      ],
      "metadata": {
        "id": "2YRZxyGvJoIo"
      },
      "execution_count": 1,
      "outputs": []
    },
    {
      "cell_type": "markdown",
      "source": [
        "Logistic Regression"
      ],
      "metadata": {
        "id": "jx5HgP2OPplZ"
      }
    },
    {
      "cell_type": "code",
      "source": [
        "#Th edata set for any the image will be seen like above for example [82, 71, 68]....red , blue, green and its like 3 set of values we need to make into 1 set\n",
        "\n",
        "m = X.shape[1] #input values size\n",
        "W = np.zeros(X.shape[0]) #1d array to add the values for the difference between predictionvalue and exact value\n",
        "b = 0.0 #scalar value for small changes\n",
        "#flatten\n",
        "X_flatten = X.reshape(X.shape[0], -1).T    #FLatten dataset\n",
        "#sigmoid (Activation function)\n",
        "A = 1/(1+np.exp(-(np.dot(W.T , X) +b )))   #Sigmoid (logistic Regression using sigmoid function we need to find w,b). ... in finel I need to do this\n",
        "#cost function\n",
        "cost = -(1/m) * np.sum((Y * np.log(A))+ ((1-Y) * np.log(1-A))) #gradient descent loss function (Sum of loss is cost)\n",
        "cost = np.squeeze(np.array(cost)) # remove dimensional array and make it as scalar\n",
        "\n",
        "#we need to find w , b  .....w = w-alphs(dw)  ; b = b-alpha(db)\n",
        "dw = (1 / m) * np.dot(X, (A - Y).T) #∂𝐽∂𝑤=1𝑚𝑋(𝐴−𝑌)𝑇(7)\n",
        "db = (1/m) *np.sum(A-Y) #∂𝐽∂𝑏=1𝑚∑𝑖=1𝑚(𝑎(𝑖)−𝑦(𝑖))\n",
        "\n",
        "#optimize\n",
        "leanring_rate = 0.09\n",
        "for i in range (100):   # here we should give number base on how many iterations should run for to reduce w,b values and give good prediction\n",
        "  w = w - leanring_rate(dw)\n",
        "  b = b - learning_rate(db)\n",
        "\n",
        "#prediction\n",
        "for i in range(A.shape[1]):\n",
        "  if A[0,i] > 0.5:\n",
        "    Y_prediction[0,i] =  1\n",
        "  else :\n",
        "    Y_prediction[0,i] = 0\n",
        "\n",
        "\n",
        "\n",
        "\n"
      ],
      "metadata": {
        "id": "9aecNEyMJoNL"
      },
      "execution_count": 9,
      "outputs": []
    },
    {
      "cell_type": "code",
      "source": [],
      "metadata": {
        "id": "nGVT97EOJoR-"
      },
      "execution_count": null,
      "outputs": []
    },
    {
      "cell_type": "code",
      "source": [],
      "metadata": {
        "id": "0zHd7yihJoUc"
      },
      "execution_count": null,
      "outputs": []
    },
    {
      "cell_type": "code",
      "source": [],
      "metadata": {
        "id": "dK1xG4zDJoWb"
      },
      "execution_count": null,
      "outputs": []
    },
    {
      "cell_type": "code",
      "source": [],
      "metadata": {
        "id": "QJANFSFTJoYp"
      },
      "execution_count": null,
      "outputs": []
    }
  ]
}